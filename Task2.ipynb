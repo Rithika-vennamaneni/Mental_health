{
  "nbformat": 4,
  "nbformat_minor": 0,
  "metadata": {
    "colab": {
      "provenance": []
    },
    "kernelspec": {
      "name": "python3",
      "display_name": "Python 3"
    },
    "language_info": {
      "name": "python"
    }
  },
  "cells": [
    {
      "cell_type": "code",
      "execution_count": null,
      "metadata": {
        "id": "jUJf27pqMT1R"
      },
      "outputs": [],
      "source": [
        "from google.colab import drive"
      ]
    },
    {
      "cell_type": "code",
      "source": [
        "import pandas as pd\n",
        "import numpy as np\n",
        "import seaborn as sns\n",
        "import matplotlib.pyplot as plt"
      ],
      "metadata": {
        "id": "AlB-QWbHMfYt"
      },
      "execution_count": null,
      "outputs": []
    },
    {
      "cell_type": "code",
      "source": [
        "drive.mount('/content/drive')"
      ],
      "metadata": {
        "colab": {
          "base_uri": "https://localhost:8080/"
        },
        "id": "EgujAM-5MiNa",
        "outputId": "5f2fd97c-8770-4f3e-ba9a-858cd3f799e8"
      },
      "execution_count": null,
      "outputs": [
        {
          "output_type": "stream",
          "name": "stdout",
          "text": [
            "Drive already mounted at /content/drive; to attempt to forcibly remount, call drive.mount(\"/content/drive\", force_remount=True).\n"
          ]
        }
      ]
    },
    {
      "cell_type": "code",
      "source": [
        "df = pd.read_csv('/content/drive/MyDrive/Task2/task2.csv')"
      ],
      "metadata": {
        "id": "-l-az2iYMiwT"
      },
      "execution_count": null,
      "outputs": []
    },
    {
      "cell_type": "code",
      "source": [
        "df.info()"
      ],
      "metadata": {
        "colab": {
          "base_uri": "https://localhost:8080/"
        },
        "id": "U0bLYNG_Mvc2",
        "outputId": "b04c1655-5f09-4150-e7ae-8970d41c742d"
      },
      "execution_count": null,
      "outputs": [
        {
          "output_type": "stream",
          "name": "stdout",
          "text": [
            "<class 'pandas.core.frame.DataFrame'>\n",
            "RangeIndex: 1000 entries, 0 to 999\n",
            "Data columns (total 23 columns):\n",
            " #   Column                                Non-Null Count  Dtype  \n",
            "---  ------                                --------------  -----  \n",
            " 0   Id                                    1000 non-null   int64  \n",
            " 1   have_youMentalHealthBenefits          1000 non-null   object \n",
            " 2   Country                               1000 non-null   int64  \n",
            " 3   Mental_Consequences                   1000 non-null   int64  \n",
            " 4   isCompany_Technical                   1000 non-null   int64  \n",
            " 5   discuss_Family                        1000 non-null   int64  \n",
            " 6   isConsequenceSerious                  1000 non-null   int64  \n",
            " 7   Age                                   1000 non-null   int64  \n",
            " 8   isSelfEmployed                        1000 non-null   float64\n",
            " 9   have_you_PhysicalHealthConversations  1000 non-null   int64  \n",
            " 10  isAnonymous                           1000 non-null   object \n",
            " 11  have_you_MentalHealthConversations    1000 non-null   object \n",
            " 12  have_you_seeked_MentalHealthHelp      1000 non-null   object \n",
            " 13  feel_Recovering                       1000 non-null   object \n",
            " 14  isPart_of_MentalHealthProgram         1000 non-null   object \n",
            " 15  know_you_MentalCareOptions            1000 non-null   object \n",
            " 16  isMental_asGoodas_Physical            1000 non-null   object \n",
            " 17  isMentalIllness_family                1000 non-null   int64  \n",
            " 18  discuss_Peers                         1000 non-null   int64  \n",
            " 19  Physical_Consequences                 1000 non-null   object \n",
            " 20  istreatment_required                  1000 non-null   int64  \n",
            " 21  isWork_Remote                         1000 non-null   int64  \n",
            " 22  Approx_Acquaintances                  1000 non-null   object \n",
            "dtypes: float64(1), int64(12), object(10)\n",
            "memory usage: 179.8+ KB\n"
          ]
        }
      ]
    },
    {
      "cell_type": "code",
      "source": [
        "df\n"
      ],
      "metadata": {
        "colab": {
          "base_uri": "https://localhost:8080/",
          "height": 487
        },
        "id": "3m9wqy1dPIUK",
        "outputId": "45e67297-3f09-4977-e5f9-f62a32a24213"
      },
      "execution_count": null,
      "outputs": [
        {
          "output_type": "execute_result",
          "data": {
            "text/plain": [
              "       Id have_youMentalHealthBenefits  Country  Mental_Consequences  \\\n",
              "0       5                          Yes        1                    0   \n",
              "1     494                   Don't know        1                    2   \n",
              "2      52                   Don't know        1                    2   \n",
              "3     986                   Don't know        3                    1   \n",
              "4     186                   Don't know        3                    2   \n",
              "..    ...                          ...      ...                  ...   \n",
              "995  1074                          Yes        1                    2   \n",
              "996   195                           No       21                    2   \n",
              "997   191                          Yes        1                    2   \n",
              "998   628                           No        2                    1   \n",
              "999   536                          Yes        1                    1   \n",
              "\n",
              "     isCompany_Technical  discuss_Family  isConsequenceSerious  Age  \\\n",
              "0                      1               1                     0   33   \n",
              "1                      1               0                     0   25   \n",
              "2                      1               2                     0   31   \n",
              "3                      1               0                     1   39   \n",
              "4                      1               1                     0   24   \n",
              "..                   ...             ...                   ...  ...   \n",
              "995                    1               0                     0   31   \n",
              "996                    1               2                     0   31   \n",
              "997                    1               0                     0   28   \n",
              "998                    1               0                     1   32   \n",
              "999                    1               1                     0   39   \n",
              "\n",
              "     isSelfEmployed  have_you_PhysicalHealthConversations  ...  \\\n",
              "0          0.118902                                     2  ...   \n",
              "1          0.000000                                     0  ...   \n",
              "2          0.000000                                     2  ...   \n",
              "3          0.000000                                     0  ...   \n",
              "4          0.000000                                     1  ...   \n",
              "..              ...                                   ...  ...   \n",
              "995        0.000000                                     2  ...   \n",
              "996        1.000000                                     2  ...   \n",
              "997        0.000000                                     2  ...   \n",
              "998        0.000000                                     2  ...   \n",
              "999        0.000000                                     0  ...   \n",
              "\n",
              "        feel_Recovering isPart_of_MentalHealthProgram  \\\n",
              "0            Don't know                            No   \n",
              "1            Don't know                    Don't know   \n",
              "2            Don't know                    Don't know   \n",
              "3    Somewhat difficult                            No   \n",
              "4         Somewhat easy                            No   \n",
              "..                  ...                           ...   \n",
              "995       Somewhat easy                            No   \n",
              "996       Somewhat easy                            No   \n",
              "997       Somewhat easy                            No   \n",
              "998      Very difficult                            No   \n",
              "999       Somewhat easy                           Yes   \n",
              "\n",
              "    know_you_MentalCareOptions isMental_asGoodas_Physical  \\\n",
              "0                     Not sure                 Don't know   \n",
              "1                     Not sure                 Don't know   \n",
              "2                           No                 Don't know   \n",
              "3                     Not sure                         No   \n",
              "4                           No                        Yes   \n",
              "..                         ...                        ...   \n",
              "995                        Yes                         No   \n",
              "996                         No                 Don't know   \n",
              "997                         No                         No   \n",
              "998                        Yes                         No   \n",
              "999                        Yes                         No   \n",
              "\n",
              "    isMentalIllness_family discuss_Peers Physical_Consequences  \\\n",
              "0                        1             1                    No   \n",
              "1                        0             2                    No   \n",
              "2                        0             2                 Maybe   \n",
              "3                        1             0                   Yes   \n",
              "4                        0             2                    No   \n",
              "..                     ...           ...                   ...   \n",
              "995                      0             2                    No   \n",
              "996                      1             2                 Maybe   \n",
              "997                      1             2                 Maybe   \n",
              "998                      0             2                 Maybe   \n",
              "999                      1             2                    No   \n",
              "\n",
              "     istreatment_required  isWork_Remote Approx_Acquaintances  \n",
              "0                       0              0                 6-25  \n",
              "1                       0              0               26-100  \n",
              "2                       0              1              100-500  \n",
              "3                       0              1             500-1000  \n",
              "4                       0              0                 6-25  \n",
              "..                    ...            ...                  ...  \n",
              "995                     1              0              100-500  \n",
              "996                     0              0                 6-25  \n",
              "997                     1              0               26-100  \n",
              "998                     0              1               26-100  \n",
              "999                     1              1               26-100  \n",
              "\n",
              "[1000 rows x 23 columns]"
            ],
            "text/html": [
              "\n",
              "  <div id=\"df-9d17b0b5-df4e-45b1-98b7-0399429758cc\">\n",
              "    <div class=\"colab-df-container\">\n",
              "      <div>\n",
              "<style scoped>\n",
              "    .dataframe tbody tr th:only-of-type {\n",
              "        vertical-align: middle;\n",
              "    }\n",
              "\n",
              "    .dataframe tbody tr th {\n",
              "        vertical-align: top;\n",
              "    }\n",
              "\n",
              "    .dataframe thead th {\n",
              "        text-align: right;\n",
              "    }\n",
              "</style>\n",
              "<table border=\"1\" class=\"dataframe\">\n",
              "  <thead>\n",
              "    <tr style=\"text-align: right;\">\n",
              "      <th></th>\n",
              "      <th>Id</th>\n",
              "      <th>have_youMentalHealthBenefits</th>\n",
              "      <th>Country</th>\n",
              "      <th>Mental_Consequences</th>\n",
              "      <th>isCompany_Technical</th>\n",
              "      <th>discuss_Family</th>\n",
              "      <th>isConsequenceSerious</th>\n",
              "      <th>Age</th>\n",
              "      <th>isSelfEmployed</th>\n",
              "      <th>have_you_PhysicalHealthConversations</th>\n",
              "      <th>...</th>\n",
              "      <th>feel_Recovering</th>\n",
              "      <th>isPart_of_MentalHealthProgram</th>\n",
              "      <th>know_you_MentalCareOptions</th>\n",
              "      <th>isMental_asGoodas_Physical</th>\n",
              "      <th>isMentalIllness_family</th>\n",
              "      <th>discuss_Peers</th>\n",
              "      <th>Physical_Consequences</th>\n",
              "      <th>istreatment_required</th>\n",
              "      <th>isWork_Remote</th>\n",
              "      <th>Approx_Acquaintances</th>\n",
              "    </tr>\n",
              "  </thead>\n",
              "  <tbody>\n",
              "    <tr>\n",
              "      <th>0</th>\n",
              "      <td>5</td>\n",
              "      <td>Yes</td>\n",
              "      <td>1</td>\n",
              "      <td>0</td>\n",
              "      <td>1</td>\n",
              "      <td>1</td>\n",
              "      <td>0</td>\n",
              "      <td>33</td>\n",
              "      <td>0.118902</td>\n",
              "      <td>2</td>\n",
              "      <td>...</td>\n",
              "      <td>Don't know</td>\n",
              "      <td>No</td>\n",
              "      <td>Not sure</td>\n",
              "      <td>Don't know</td>\n",
              "      <td>1</td>\n",
              "      <td>1</td>\n",
              "      <td>No</td>\n",
              "      <td>0</td>\n",
              "      <td>0</td>\n",
              "      <td>6-25</td>\n",
              "    </tr>\n",
              "    <tr>\n",
              "      <th>1</th>\n",
              "      <td>494</td>\n",
              "      <td>Don't know</td>\n",
              "      <td>1</td>\n",
              "      <td>2</td>\n",
              "      <td>1</td>\n",
              "      <td>0</td>\n",
              "      <td>0</td>\n",
              "      <td>25</td>\n",
              "      <td>0.000000</td>\n",
              "      <td>0</td>\n",
              "      <td>...</td>\n",
              "      <td>Don't know</td>\n",
              "      <td>Don't know</td>\n",
              "      <td>Not sure</td>\n",
              "      <td>Don't know</td>\n",
              "      <td>0</td>\n",
              "      <td>2</td>\n",
              "      <td>No</td>\n",
              "      <td>0</td>\n",
              "      <td>0</td>\n",
              "      <td>26-100</td>\n",
              "    </tr>\n",
              "    <tr>\n",
              "      <th>2</th>\n",
              "      <td>52</td>\n",
              "      <td>Don't know</td>\n",
              "      <td>1</td>\n",
              "      <td>2</td>\n",
              "      <td>1</td>\n",
              "      <td>2</td>\n",
              "      <td>0</td>\n",
              "      <td>31</td>\n",
              "      <td>0.000000</td>\n",
              "      <td>2</td>\n",
              "      <td>...</td>\n",
              "      <td>Don't know</td>\n",
              "      <td>Don't know</td>\n",
              "      <td>No</td>\n",
              "      <td>Don't know</td>\n",
              "      <td>0</td>\n",
              "      <td>2</td>\n",
              "      <td>Maybe</td>\n",
              "      <td>0</td>\n",
              "      <td>1</td>\n",
              "      <td>100-500</td>\n",
              "    </tr>\n",
              "    <tr>\n",
              "      <th>3</th>\n",
              "      <td>986</td>\n",
              "      <td>Don't know</td>\n",
              "      <td>3</td>\n",
              "      <td>1</td>\n",
              "      <td>1</td>\n",
              "      <td>0</td>\n",
              "      <td>1</td>\n",
              "      <td>39</td>\n",
              "      <td>0.000000</td>\n",
              "      <td>0</td>\n",
              "      <td>...</td>\n",
              "      <td>Somewhat difficult</td>\n",
              "      <td>No</td>\n",
              "      <td>Not sure</td>\n",
              "      <td>No</td>\n",
              "      <td>1</td>\n",
              "      <td>0</td>\n",
              "      <td>Yes</td>\n",
              "      <td>0</td>\n",
              "      <td>1</td>\n",
              "      <td>500-1000</td>\n",
              "    </tr>\n",
              "    <tr>\n",
              "      <th>4</th>\n",
              "      <td>186</td>\n",
              "      <td>Don't know</td>\n",
              "      <td>3</td>\n",
              "      <td>2</td>\n",
              "      <td>1</td>\n",
              "      <td>1</td>\n",
              "      <td>0</td>\n",
              "      <td>24</td>\n",
              "      <td>0.000000</td>\n",
              "      <td>1</td>\n",
              "      <td>...</td>\n",
              "      <td>Somewhat easy</td>\n",
              "      <td>No</td>\n",
              "      <td>No</td>\n",
              "      <td>Yes</td>\n",
              "      <td>0</td>\n",
              "      <td>2</td>\n",
              "      <td>No</td>\n",
              "      <td>0</td>\n",
              "      <td>0</td>\n",
              "      <td>6-25</td>\n",
              "    </tr>\n",
              "    <tr>\n",
              "      <th>...</th>\n",
              "      <td>...</td>\n",
              "      <td>...</td>\n",
              "      <td>...</td>\n",
              "      <td>...</td>\n",
              "      <td>...</td>\n",
              "      <td>...</td>\n",
              "      <td>...</td>\n",
              "      <td>...</td>\n",
              "      <td>...</td>\n",
              "      <td>...</td>\n",
              "      <td>...</td>\n",
              "      <td>...</td>\n",
              "      <td>...</td>\n",
              "      <td>...</td>\n",
              "      <td>...</td>\n",
              "      <td>...</td>\n",
              "      <td>...</td>\n",
              "      <td>...</td>\n",
              "      <td>...</td>\n",
              "      <td>...</td>\n",
              "      <td>...</td>\n",
              "    </tr>\n",
              "    <tr>\n",
              "      <th>995</th>\n",
              "      <td>1074</td>\n",
              "      <td>Yes</td>\n",
              "      <td>1</td>\n",
              "      <td>2</td>\n",
              "      <td>1</td>\n",
              "      <td>0</td>\n",
              "      <td>0</td>\n",
              "      <td>31</td>\n",
              "      <td>0.000000</td>\n",
              "      <td>2</td>\n",
              "      <td>...</td>\n",
              "      <td>Somewhat easy</td>\n",
              "      <td>No</td>\n",
              "      <td>Yes</td>\n",
              "      <td>No</td>\n",
              "      <td>0</td>\n",
              "      <td>2</td>\n",
              "      <td>No</td>\n",
              "      <td>1</td>\n",
              "      <td>0</td>\n",
              "      <td>100-500</td>\n",
              "    </tr>\n",
              "    <tr>\n",
              "      <th>996</th>\n",
              "      <td>195</td>\n",
              "      <td>No</td>\n",
              "      <td>21</td>\n",
              "      <td>2</td>\n",
              "      <td>1</td>\n",
              "      <td>2</td>\n",
              "      <td>0</td>\n",
              "      <td>31</td>\n",
              "      <td>1.000000</td>\n",
              "      <td>2</td>\n",
              "      <td>...</td>\n",
              "      <td>Somewhat easy</td>\n",
              "      <td>No</td>\n",
              "      <td>No</td>\n",
              "      <td>Don't know</td>\n",
              "      <td>1</td>\n",
              "      <td>2</td>\n",
              "      <td>Maybe</td>\n",
              "      <td>0</td>\n",
              "      <td>0</td>\n",
              "      <td>6-25</td>\n",
              "    </tr>\n",
              "    <tr>\n",
              "      <th>997</th>\n",
              "      <td>191</td>\n",
              "      <td>Yes</td>\n",
              "      <td>1</td>\n",
              "      <td>2</td>\n",
              "      <td>1</td>\n",
              "      <td>0</td>\n",
              "      <td>0</td>\n",
              "      <td>28</td>\n",
              "      <td>0.000000</td>\n",
              "      <td>2</td>\n",
              "      <td>...</td>\n",
              "      <td>Somewhat easy</td>\n",
              "      <td>No</td>\n",
              "      <td>No</td>\n",
              "      <td>No</td>\n",
              "      <td>1</td>\n",
              "      <td>2</td>\n",
              "      <td>Maybe</td>\n",
              "      <td>1</td>\n",
              "      <td>0</td>\n",
              "      <td>26-100</td>\n",
              "    </tr>\n",
              "    <tr>\n",
              "      <th>998</th>\n",
              "      <td>628</td>\n",
              "      <td>No</td>\n",
              "      <td>2</td>\n",
              "      <td>1</td>\n",
              "      <td>1</td>\n",
              "      <td>0</td>\n",
              "      <td>1</td>\n",
              "      <td>32</td>\n",
              "      <td>0.000000</td>\n",
              "      <td>2</td>\n",
              "      <td>...</td>\n",
              "      <td>Very difficult</td>\n",
              "      <td>No</td>\n",
              "      <td>Yes</td>\n",
              "      <td>No</td>\n",
              "      <td>0</td>\n",
              "      <td>2</td>\n",
              "      <td>Maybe</td>\n",
              "      <td>0</td>\n",
              "      <td>1</td>\n",
              "      <td>26-100</td>\n",
              "    </tr>\n",
              "    <tr>\n",
              "      <th>999</th>\n",
              "      <td>536</td>\n",
              "      <td>Yes</td>\n",
              "      <td>1</td>\n",
              "      <td>1</td>\n",
              "      <td>1</td>\n",
              "      <td>1</td>\n",
              "      <td>0</td>\n",
              "      <td>39</td>\n",
              "      <td>0.000000</td>\n",
              "      <td>0</td>\n",
              "      <td>...</td>\n",
              "      <td>Somewhat easy</td>\n",
              "      <td>Yes</td>\n",
              "      <td>Yes</td>\n",
              "      <td>No</td>\n",
              "      <td>1</td>\n",
              "      <td>2</td>\n",
              "      <td>No</td>\n",
              "      <td>1</td>\n",
              "      <td>1</td>\n",
              "      <td>26-100</td>\n",
              "    </tr>\n",
              "  </tbody>\n",
              "</table>\n",
              "<p>1000 rows × 23 columns</p>\n",
              "</div>\n",
              "      <button class=\"colab-df-convert\" onclick=\"convertToInteractive('df-9d17b0b5-df4e-45b1-98b7-0399429758cc')\"\n",
              "              title=\"Convert this dataframe to an interactive table.\"\n",
              "              style=\"display:none;\">\n",
              "        \n",
              "  <svg xmlns=\"http://www.w3.org/2000/svg\" height=\"24px\"viewBox=\"0 0 24 24\"\n",
              "       width=\"24px\">\n",
              "    <path d=\"M0 0h24v24H0V0z\" fill=\"none\"/>\n",
              "    <path d=\"M18.56 5.44l.94 2.06.94-2.06 2.06-.94-2.06-.94-.94-2.06-.94 2.06-2.06.94zm-11 1L8.5 8.5l.94-2.06 2.06-.94-2.06-.94L8.5 2.5l-.94 2.06-2.06.94zm10 10l.94 2.06.94-2.06 2.06-.94-2.06-.94-.94-2.06-.94 2.06-2.06.94z\"/><path d=\"M17.41 7.96l-1.37-1.37c-.4-.4-.92-.59-1.43-.59-.52 0-1.04.2-1.43.59L10.3 9.45l-7.72 7.72c-.78.78-.78 2.05 0 2.83L4 21.41c.39.39.9.59 1.41.59.51 0 1.02-.2 1.41-.59l7.78-7.78 2.81-2.81c.8-.78.8-2.07 0-2.86zM5.41 20L4 18.59l7.72-7.72 1.47 1.35L5.41 20z\"/>\n",
              "  </svg>\n",
              "      </button>\n",
              "      \n",
              "  <style>\n",
              "    .colab-df-container {\n",
              "      display:flex;\n",
              "      flex-wrap:wrap;\n",
              "      gap: 12px;\n",
              "    }\n",
              "\n",
              "    .colab-df-convert {\n",
              "      background-color: #E8F0FE;\n",
              "      border: none;\n",
              "      border-radius: 50%;\n",
              "      cursor: pointer;\n",
              "      display: none;\n",
              "      fill: #1967D2;\n",
              "      height: 32px;\n",
              "      padding: 0 0 0 0;\n",
              "      width: 32px;\n",
              "    }\n",
              "\n",
              "    .colab-df-convert:hover {\n",
              "      background-color: #E2EBFA;\n",
              "      box-shadow: 0px 1px 2px rgba(60, 64, 67, 0.3), 0px 1px 3px 1px rgba(60, 64, 67, 0.15);\n",
              "      fill: #174EA6;\n",
              "    }\n",
              "\n",
              "    [theme=dark] .colab-df-convert {\n",
              "      background-color: #3B4455;\n",
              "      fill: #D2E3FC;\n",
              "    }\n",
              "\n",
              "    [theme=dark] .colab-df-convert:hover {\n",
              "      background-color: #434B5C;\n",
              "      box-shadow: 0px 1px 3px 1px rgba(0, 0, 0, 0.15);\n",
              "      filter: drop-shadow(0px 1px 2px rgba(0, 0, 0, 0.3));\n",
              "      fill: #FFFFFF;\n",
              "    }\n",
              "  </style>\n",
              "\n",
              "      <script>\n",
              "        const buttonEl =\n",
              "          document.querySelector('#df-9d17b0b5-df4e-45b1-98b7-0399429758cc button.colab-df-convert');\n",
              "        buttonEl.style.display =\n",
              "          google.colab.kernel.accessAllowed ? 'block' : 'none';\n",
              "\n",
              "        async function convertToInteractive(key) {\n",
              "          const element = document.querySelector('#df-9d17b0b5-df4e-45b1-98b7-0399429758cc');\n",
              "          const dataTable =\n",
              "            await google.colab.kernel.invokeFunction('convertToInteractive',\n",
              "                                                     [key], {});\n",
              "          if (!dataTable) return;\n",
              "\n",
              "          const docLinkHtml = 'Like what you see? Visit the ' +\n",
              "            '<a target=\"_blank\" href=https://colab.research.google.com/notebooks/data_table.ipynb>data table notebook</a>'\n",
              "            + ' to learn more about interactive tables.';\n",
              "          element.innerHTML = '';\n",
              "          dataTable['output_type'] = 'display_data';\n",
              "          await google.colab.output.renderOutput(dataTable, element);\n",
              "          const docLink = document.createElement('div');\n",
              "          docLink.innerHTML = docLinkHtml;\n",
              "          element.appendChild(docLink);\n",
              "        }\n",
              "      </script>\n",
              "    </div>\n",
              "  </div>\n",
              "  "
            ]
          },
          "metadata": {},
          "execution_count": 71
        }
      ]
    },
    {
      "cell_type": "code",
      "source": [
        "df = pd.read_csv('/content/drive/MyDrive/Task2/task2.csv')"
      ],
      "metadata": {
        "id": "0bPMJTKXPNl3"
      },
      "execution_count": null,
      "outputs": []
    },
    {
      "cell_type": "code",
      "source": [
        "df.replace({'have_you_PhysicalHealthConversations':{\"Yes\":1,\"No\":0,\"Maybe\":2}},inplace=True)"
      ],
      "metadata": {
        "id": "BYNgNjQLVIUL"
      },
      "execution_count": null,
      "outputs": []
    },
    {
      "cell_type": "code",
      "source": [
        "df.replace({'':{\"Yes\":1,\"No\":0,\"Maybe\":2}},inplace=True)"
      ],
      "metadata": {
        "id": "yLBUtxKRY1uJ"
      },
      "execution_count": null,
      "outputs": []
    },
    {
      "cell_type": "code",
      "source": [
        "df.replace({'Mental_Consequences':{'Yes':1,'No':0,'Maybe':2}},inplace=True)"
      ],
      "metadata": {
        "id": "vX-PFiblXI5j"
      },
      "execution_count": null,
      "outputs": []
    },
    {
      "cell_type": "code",
      "source": [
        "df.replace({'discuss_Family':{'Yes':1,'No':0,'Some of them':2}},inplace=True)"
      ],
      "metadata": {
        "id": "gpPF5xc6XQIj"
      },
      "execution_count": null,
      "outputs": []
    },
    {
      "cell_type": "code",
      "source": [
        "df.isna().sum()"
      ],
      "metadata": {
        "colab": {
          "base_uri": "https://localhost:8080/"
        },
        "id": "eTcIAQ-RYFxz",
        "outputId": "2c6b28e7-8886-4a6d-8486-eb7c28ecdc75"
      },
      "execution_count": null,
      "outputs": [
        {
          "output_type": "execute_result",
          "data": {
            "text/plain": [
              "Id                                      0\n",
              "have_youMentalHealthBenefits            0\n",
              "Country                                 0\n",
              "Mental_Consequences                     0\n",
              "isCompany_Technical                     0\n",
              "discuss_Family                          0\n",
              "isConsequenceSerious                    0\n",
              "Age                                     0\n",
              "isSelfEmployed                          0\n",
              "have_you_PhysicalHealthConversations    0\n",
              "isAnonymous                             0\n",
              "have_you_MentalHealthConversations      0\n",
              "have_you_seeked_MentalHealthHelp        0\n",
              "feel_Recovering                         0\n",
              "isPart_of_MentalHealthProgram           0\n",
              "know_you_MentalCareOptions              0\n",
              "isMental_asGoodas_Physical              0\n",
              "isMentalIllness_family                  0\n",
              "discuss_Peers                           0\n",
              "Physical_Consequences                   0\n",
              "istreatment_required                    0\n",
              "isWork_Remote                           0\n",
              "Approx_Acquaintances                    0\n",
              "Gender                                  0\n",
              "dtype: int64"
            ]
          },
          "metadata": {},
          "execution_count": 68
        }
      ]
    },
    {
      "cell_type": "code",
      "source": [
        "df.fillna({\"isSelfEmployed\":df['isSelfEmployed'].mean()},inplace=True)"
      ],
      "metadata": {
        "id": "UHrxQRWmYWNo"
      },
      "execution_count": null,
      "outputs": []
    },
    {
      "cell_type": "code",
      "source": [
        "df.drop('iswork_disturbed',axis=1,inplace=True)"
      ],
      "metadata": {
        "id": "YQQkG9IgYukn"
      },
      "execution_count": null,
      "outputs": []
    },
    {
      "cell_type": "code",
      "source": [
        "df.drop('Additional_Data',axis=1,inplace=True)"
      ],
      "metadata": {
        "id": "6vJk2pM2ZUJK"
      },
      "execution_count": null,
      "outputs": []
    },
    {
      "cell_type": "code",
      "source": [
        "df.drop('Gender',axis=1,inplace=True)"
      ],
      "metadata": {
        "id": "ZerKnB3BafeP"
      },
      "execution_count": null,
      "outputs": []
    },
    {
      "cell_type": "code",
      "source": [
        "df.replace({'discuss_Peers':{'Yes':1,'No':0,'Some of them':2}},inplace=True)"
      ],
      "metadata": {
        "id": "VYxKziJIZl4s"
      },
      "execution_count": null,
      "outputs": []
    },
    {
      "cell_type": "code",
      "source": [
        "fig, ax = plt.subplots(figsize=(16,8))\n",
        "ax.scatter(df['isSelfEmployed'], df['isConsequenceSerious'])\n",
        "ax.set_xlabel('isSelfEmployed')\n",
        "ax.set_ylabel('isConsequenceSerious   ')\n",
        "plt.show()"
      ],
      "metadata": {
        "colab": {
          "base_uri": "https://localhost:8080/",
          "height": 497
        },
        "id": "XNoUKXgFaNJM",
        "outputId": "39be05d6-0faf-4f48-ff99-b79b8fdf0a96"
      },
      "execution_count": null,
      "outputs": [
        {
          "output_type": "display_data",
          "data": {
            "text/plain": [
              "<Figure size 1152x576 with 1 Axes>"
            ],
            "image/png": "[encoded data removed]"
          },
          "metadata": {
            "needs_background": "light"
          }
        }
      ]
    }
  ]
}